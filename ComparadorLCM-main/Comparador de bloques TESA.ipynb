{
 "cells": [
  {
   "cell_type": "markdown",
   "id": "fddc9478-0649-47d5-bbe6-48958e74bb24",
   "metadata": {},
   "source": [
    "<img src=\"logoLCM.png\"  width=\"15%\" height=\"7.5%\">"
   ]
  },
  {
   "cell_type": "markdown",
   "id": "5a284db2-0d67-49fc-9908-16cfa4446190",
   "metadata": {},
   "source": [
    "## Comparador de bloques TESA"
   ]
  },
  {
   "cell_type": "code",
   "execution_count": 1,
   "id": "e1277d0a-90ab-4077-b9a3-ba6b8cf03fcb",
   "metadata": {
    "tags": []
   },
   "outputs": [
    {
     "name": "stdout",
     "output_type": "stream",
     "text": [
      "\n",
      "\n",
      "     ***** Movimiento manual de la posición inicial del motor ***** \n",
      "-> Al terminar presiona  q  para salir.\n"
     ]
    },
    {
     "name": "stdin",
     "output_type": "stream",
     "text": [
      "Para comenzar, presiona enter: \n"
     ]
    },
    {
     "ename": "error",
     "evalue": "cbreak() returned ERR",
     "output_type": "error",
     "traceback": [
      "\u001b[0;31m---------------------------------------------------------------------------\u001b[0m",
      "\u001b[0;31merror\u001b[0m                                     Traceback (most recent call last)",
      "Cell \u001b[0;32mIn[1], line 2\u001b[0m\n\u001b[1;32m      1\u001b[0m \u001b[38;5;28;01mimport\u001b[39;00m \u001b[38;5;21;01mipywidgets\u001b[39;00m \u001b[38;5;28;01mas\u001b[39;00m \u001b[38;5;21;01mwidgets\u001b[39;00m \n\u001b[0;32m----> 2\u001b[0m \u001b[38;5;28;01mfrom\u001b[39;00m \u001b[38;5;21;01mFuncionesComparador\u001b[39;00m\u001b[38;5;21;01m.\u001b[39;00m\u001b[38;5;21;01mpy\u001b[39;00m \u001b[38;5;28;01mimport\u001b[39;00m \u001b[38;5;241m*\u001b[39m\n",
      "File \u001b[0;32m~/Escritorio/Software Comparador/ComparadorLCM-main/FuncionesComparador.py:1139\u001b[0m\n\u001b[1;32m   1135\u001b[0m     \u001b[38;5;28;01mreturn\u001b[39;00m\n\u001b[1;32m   1137\u001b[0m \u001b[38;5;66;03m################## Programa Temporal Comparador Bloques ##################\u001b[39;00m\n\u001b[0;32m-> 1139\u001b[0m \u001b[43mmoverManual\u001b[49m\u001b[43m(\u001b[49m\u001b[43m)\u001b[49m\n\u001b[1;32m   1140\u001b[0m NuevaCalibracion(\u001b[38;5;124m\"\u001b[39m\u001b[38;5;124mInstituto Costarricense de Electricidad\u001b[39m\u001b[38;5;124m\"\u001b[39m, \u001b[38;5;124m\"\u001b[39m\u001b[38;5;124mLCM12345\u001b[39m\u001b[38;5;124m\"\u001b[39m, \u001b[38;5;124m\"\u001b[39m\u001b[38;5;124m67890\u001b[39m\u001b[38;5;124m\"\u001b[39m, \u001b[38;5;124m\"\u001b[39m\u001b[38;5;124m12345\u001b[39m\u001b[38;5;124m\"\u001b[39m,\u001b[38;5;124m\"\u001b[39m\u001b[38;5;124mFernanda Quesada\u001b[39m\u001b[38;5;124m\"\u001b[39m, \u001b[38;5;124m\"\u001b[39m\u001b[38;5;124mLeonardo Rojas\u001b[39m\u001b[38;5;124m\"\u001b[39m, \u001b[38;5;124m\"\u001b[39m\u001b[38;5;124mBloques Patrón de Cerámica de 0,5 mm a 100 mm\u001b[39m\u001b[38;5;124m\"\u001b[39m, \u001b[38;5;124m\"\u001b[39m\u001b[38;5;124mCerámica\u001b[39m\u001b[38;5;124m\"\u001b[39m, \u001b[38;5;124m\"\u001b[39m\u001b[38;5;124mDesviación central\u001b[39m\u001b[38;5;124m\"\u001b[39m, \u001b[38;5;241m0.25\u001b[39m, \u001b[38;5;241m10\u001b[39m, \u001b[38;5;241m2\u001b[39m)\n",
      "File \u001b[0;32m~/Escritorio/Software Comparador/ComparadorLCM-main/FuncionesComparador.py:96\u001b[0m, in \u001b[0;36mmoverManual\u001b[0;34m()\u001b[0m\n\u001b[1;32m     94\u001b[0m screen \u001b[38;5;241m=\u001b[39m curses\u001b[38;5;241m.\u001b[39minitscr()\n\u001b[1;32m     95\u001b[0m curses\u001b[38;5;241m.\u001b[39mnoecho()\n\u001b[0;32m---> 96\u001b[0m \u001b[43mcurses\u001b[49m\u001b[38;5;241;43m.\u001b[39;49m\u001b[43mcbreak\u001b[49m\u001b[43m(\u001b[49m\u001b[43m)\u001b[49m\n\u001b[1;32m     97\u001b[0m screen\u001b[38;5;241m.\u001b[39mkeypad(\u001b[38;5;28;01mTrue\u001b[39;00m)\n\u001b[1;32m     98\u001b[0m \u001b[38;5;28;01mtry\u001b[39;00m:\n",
      "\u001b[0;31merror\u001b[0m: cbreak() returned ERR"
     ]
    }
   ],
   "source": [
    "import ipywidgets as widgets \n",
    "from FuncionesComparador.py import *"
   ]
  },
  {
   "cell_type": "code",
   "execution_count": null,
   "id": "1ff16367-7bda-49e6-bbe0-c4192fd1de36",
   "metadata": {},
   "outputs": [],
   "source": []
  }
 ],
 "metadata": {
  "kernelspec": {
   "display_name": "Python 3 (ipykernel)",
   "language": "python",
   "name": "python3"
  },
  "language_info": {
   "codemirror_mode": {
    "name": "ipython",
    "version": 3
   },
   "file_extension": ".py",
   "mimetype": "text/x-python",
   "name": "python",
   "nbconvert_exporter": "python",
   "pygments_lexer": "ipython3",
   "version": "3.10.9"
  }
 },
 "nbformat": 4,
 "nbformat_minor": 5
}
